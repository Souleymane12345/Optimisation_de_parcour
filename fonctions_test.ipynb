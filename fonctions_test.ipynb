{
 "cells": [
  {
   "cell_type": "code",
   "execution_count": null,
   "metadata": {},
   "outputs": [],
   "source": [
    "def dist(point1, point2):\n",
    "    \"\"\"Euclid distance function\"\"\"\n",
    "    x1 = point1[0]\n",
    "    x2 = point2[0]\n",
    "    y1 = point1[1]\n",
    "    y2 = point2[1]\n",
    "    # create the points\n",
    "    p1 = (x1 - x2)**2\n",
    "    p2 = (y1 - y2)**2\n",
    "    return np.sqrt(p1 + p2)\n",
    "\n",
    "def test_lot(lot) :\n",
    "    total = 0\n",
    "    for index in range(len(lot)) :\n",
    "        total += dist( lot[index,:2], lot[index, :2] ) \n",
    "        \n",
    "    return total  \n",
    "\n",
    "def test(liste, etendue=range(7), colTri=2) :\n",
    "    stats = []\n",
    "    for valLot in etendue :\n",
    "        lot = liste[ liste[:, colTri] == valLot ][:, :2]\n",
    "        stats.append( distanceTotale = test_lot(lot) )\n",
    "    return stats    \n",
    "   \n",
    "    \n",
    "def graphComplet(lot) :\n",
    "    lot = lot[:, :2]\n",
    "    graph = np.array(())\n",
    "    for start in lot :\n",
    "        for end in lot :\n",
    "            if start != end :\n",
    "                newArray = np.array([ start, end, dist(start, end) ])\n",
    "                np.vstack( (graph, newArray))\n",
    "                \n",
    "    return graph       "
   ]
  }
 ],
 "metadata": {
  "kernelspec": {
   "display_name": "Python 3",
   "language": "python",
   "name": "python3"
  },
  "language_info": {
   "codemirror_mode": {
    "name": "ipython",
    "version": 3
   },
   "file_extension": ".py",
   "mimetype": "text/x-python",
   "name": "python",
   "nbconvert_exporter": "python",
   "pygments_lexer": "ipython3",
   "version": "3.8.5"
  }
 },
 "nbformat": 4,
 "nbformat_minor": 4
}
